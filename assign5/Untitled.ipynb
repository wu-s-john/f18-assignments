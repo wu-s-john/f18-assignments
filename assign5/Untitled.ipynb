{
 "cells": [
  {
   "cell_type": "code",
   "execution_count": 16,
   "metadata": {},
   "outputs": [
    {
     "name": "stdout",
     "output_type": "stream",
     "text": [
      "\u0000P\u0005]\u0005\u0004\u0003Z\u0000S\u0004V\u0000W\u0007\u000b",
      "\u0007\u0001\u0005\u000b",
      "\u0000[\u0005Q\u0000\u000f\u0005V\u0003\u0006\u0004\u000f\u0004\u0002\u0000\u0003\u0003\u0003\u0001S[]\u0006Y\u0001\u0001\u0004\b\\\\\u0004\u0000\u0004\u0006\u0004S\u0004\u0001\u0001[\u0000Q\u0001U\u0005\f",
      "\u0007\u000e\u0004]\u0007\u000b",
      "\u0004V\\R\u0007\u0000\u0005_\u0004U\u0007Y\u0000]\u0004Q\u0003\u0006\u0000T\u0000\u0005\u0004X\u0004\u000e\u0004W\u0000\u0007]\b\u0002\u0003\u0000]\u0005T\u0007\f",
      "X\\Z\\\u0001T\u0000V\u0001P\\Z\u0007[\u0001S\u0005Q\u0004Z[S\u0001R\u0000\u0002\u0003\u0004\u0000\t\u0004\u0007\u0005\u000e\u0005^\u0000[\u0000T\u0005\\\u0000\t\u0004V\\\u0005\u0004\u0002\u0007\u000f\u0004S\u0006X\u0007\u0007]\r",
      "\u0001R\u0007W\u0001S\u0005\u0004\u0002V\\\u000e\u0000\n",
      "\u0000\u0003\u0007R\n"
     ]
    }
   ],
   "source": [
    "import sys\n",
    "from functools import reduce # only in Python 3\n",
    "\n",
    "MSGS = [\n",
    "    '315c4eeaa8b5f8aaf9174145bf43e1784b8fa00dc71d885a804e5ee9fa40b16349c146fb778cdf2d3aff021dfff5b403b510d0d0455468aeb98622b137dae857553ccd8883a7bc37520e06e515d22c954eba5025b8cc57ee59418ce7dc6bc41556bdb36bbca3e8774301fbcaa3b83b220809560987815f65286764703de0f3d524400a19b159610b11ef3e',\n",
    "    '234c02ecbbfbafa3ed18510abd11fa724fcda2018a1a8342cf064bbde548b12b07df44ba7191d9606ef4081ffde5ad46a5069d9f7f543bedb9c861bf29c7e205132eda9382b0bc2c5c4b45f919cf3a9f1cb74151f6d551f4480c82b2cb24cc5b028aa76eb7b4ab24171ab3cdadb8356f',\n",
    "    '32510ba9a7b2bba9b8005d43a304b5714cc0bb0c8a34884dd91304b8ad40b62b07df44ba6e9d8a2368e51d04e0e7b207b70b9b8261112bacb6c866a232dfe257527dc29398f5f3251a0d47e503c66e935de81230b59b7afb5f41afa8d661cb',\n",
    "    '3f561ba9adb4b6ebec54424ba317b564418fac0dd35f8c08d31a1fe9e24fe56808c213f17c81d9607cee021dafe1e001b21ade877a5e68bea88d61b93ac5ee0d562e8e9582f5ef375f0a4ae20ed86e935de81230b59b73fb4302cd95d770c65b40aaa065f2a5e33a5a0bb5dcaba43722130f042f8ec85b7c2070',\n",
    "    '32510bfbacfbb9befd54415da243e1695ecabd58c519cd4bd2061bbde24eb76a19d84aba34d8de287be84d07e7e9a30ee714979c7e1123a8bd9822a33ecaf512472e8e8f8db3f9635c1949e640c621854eba0d79eccf52ff111284b4cc61d11902aebc66f2b2e436434eacc0aba938220b084800c2ca4e693522643573b2c4ce35050b0cf774201f0fe52ac9f26d71b6cf61a711cc229f77ace7aa88a2f19983122b11be87a59c355d25f8e4',\n",
    "    '32510bfbacfbb9befd54415da243e1695ecabd58c519cd4bd90f1fa6ea5ba47b01c909ba7696cf606ef40c04afe1ac0aa8148dd066592ded9f8774b529c7ea125d298e8883f5e9305f4b44f915cb2bd05af51373fd9b4af511039fa2d96f83414aaaf261bda2e97b170fb5cce2a53e675c154c0d9681596934777e2275b381ce2e40582afe67650b13e72287ff2270abcf73bb028932836fbdecfecee0a3b894473c1bbeb6b4913a536ce4f9b13f1efff71ea313c8661dd9a4ce',\n",
    "    '315c4eeaa8b5f8bffd11155ea506b56041c6a00c8a08854dd21a4bbde54ce56801d943ba708b8a3574f40c00fff9e00fa1439fd0654327a3bfc860b92f89ee04132ecb9298f5fd2d5e4b45e40ecc3b9d59e9417df7c95bba410e9aa2ca24c5474da2f276baa3ac325918b2daada43d6712150441c2e04f6565517f317da9d3',\n",
    "    '271946f9bbb2aeadec111841a81abc300ecaa01bd8069d5cc91005e9fe4aad6e04d513e96d99de2569bc5e50eeeca709b50a8a987f4264edb6896fb537d0a716132ddc938fb0f836480e06ed0fcd6e9759f40462f9cf57f4564186a2c1778f1543efa270bda5e933421cbe88a4a52222190f471e9bd15f652b653b7071aec59a2705081ffe72651d08f822c9ed6d76e48b63ab15d0208573a7eef027',\n",
    "    '466d06ece998b7a2fb1d464fed2ced7641ddaa3cc31c9941cf110abbf409ed39598005b3399ccfafb61d0315fca0a314be138a9f32503bedac8067f03adbf3575c3b8edc9ba7f537530541ab0f9f3cd04ff50d66f1d559ba520e89a2cb2a83',\n",
    "    '466d06ece998b7a2fb1d464fed2ced7641ddaa3cc31c9941cf110abbf409ed39598005b3399ccfafb61d0315fca0a314be138a9f32503bedac8067f03adbf3575c3b8edc9ba7f537530541ab0f9f3cd04ff50d66f1d559ba520e89a2cb2a83'\n",
    "]\n",
    "\n",
    "def strxor(a, b):     # xor two strings of different lengths\n",
    "    if len(a) > len(b):\n",
    "       return \"\".join([chr(ord(x) ^ ord(y)) for (x, y) in zip(a[:len(b)], b)])\n",
    "    else:\n",
    "       return \"\".join([chr(ord(x) ^ ord(y)) for (x, y) in zip(a, b[:len(a)])])\n",
    "\n",
    "def random(size=16):\n",
    "    return open(\"/dev/urandom\").read(size)\n",
    "\n",
    "def encrypt(key, msg):\n",
    "    c = strxor(key, msg)\n",
    "    print(c.encode('hex'))\n",
    "    return c\n",
    "\n",
    "target = '32510ba9babebbbefd001547a810e67149caee11d945cd7fc81a05e9f85aac650e9052ba6a8cd8257bf14d13e6f0a803b54fde9e77472dbff89d71b57bddef121336cb85ccb8f3315f4b52e301d16e9f52f904'\n",
    "print(reduce(strxor, MSGS))"
   ]
  },
  {
   "cell_type": "code",
   "execution_count": 22,
   "metadata": {},
   "outputs": [
    {
     "ename": "ValueError",
     "evalue": "non-hexadecimal number found in fromhex() arg at position 0",
     "output_type": "error",
     "traceback": [
      "\u001b[0;31m---------------------------------------------------------------------------\u001b[0m",
      "\u001b[0;31mValueError\u001b[0m                                Traceback (most recent call last)",
      "\u001b[0;32m<ipython-input-22-4df7ecbfacee>\u001b[0m in \u001b[0;36m<module>\u001b[0;34m()\u001b[0m\n\u001b[1;32m      1\u001b[0m bytearray.fromhex(strxor('32510ba9a7b2bba9b8005d43a304b5714cc0bb0c8a34884dd91304b8ad40b62b07df44ba6e9d8a2368e51d04e0e7b207b70b9b8261112bacb6c866a232dfe257527dc29398f5f3251a0d47e503c66e935de81230b59b7afb5f41afa8d661cb',\n\u001b[0;32m----> 2\u001b[0;31m \u001b[0;34m'32510bfbacfbb9befd54415da243e1695ecabd58c519cd4bd2061bbde24eb76a19d84aba34d8de287be84d07e7e9a30ee714979c7e1123a8bd9822a33ecaf512472e8e8f8db3f9635c1949e640c621854eba0d79eccf52ff111284b4cc61d11902aebc66f2b2e436434eacc0aba938220b084800c2ca4e693522643573b2c4ce35050b0cf774201f0fe52ac9f26d71b6cf61a711cc229f77ace7aa88a2f19983122b11be87a59c355d25f8e4'\u001b[0m\u001b[0;34m,\u001b[0m\u001b[0;34m\u001b[0m\u001b[0m\n\u001b[0m\u001b[1;32m      3\u001b[0m        )).decode()\n",
      "\u001b[0;31mValueError\u001b[0m: non-hexadecimal number found in fromhex() arg at position 0"
     ]
    }
   ],
   "source": [
    "bytearray.fromhex(strxor('32510ba9a7b2bba9b8005d43a304b5714cc0bb0c8a34884dd91304b8ad40b62b07df44ba6e9d8a2368e51d04e0e7b207b70b9b8261112bacb6c866a232dfe257527dc29398f5f3251a0d47e503c66e935de81230b59b7afb5f41afa8d661cb',\n",
    "'32510bfbacfbb9befd54415da243e1695ecabd58c519cd4bd2061bbde24eb76a19d84aba34d8de287be84d07e7e9a30ee714979c7e1123a8bd9822a33ecaf512472e8e8f8db3f9635c1949e640c621854eba0d79eccf52ff111284b4cc61d11902aebc66f2b2e436434eacc0aba938220b084800c2ca4e693522643573b2c4ce35050b0cf774201f0fe52ac9f26d71b6cf61a711cc229f77ace7aa88a2f19983122b11be87a59c355d25f8e4',\n",
    "       )).decode()"
   ]
  },
  {
   "cell_type": "code",
   "execution_count": 5,
   "metadata": {},
   "outputs": [
    {
     "name": "stdout",
     "output_type": "stream",
     "text": [
      "\u0000P\u0005]\u0005\u0004\u0003Z\u0000S\u0004V\u0000W\u0007\u000b",
      "\u0007\u0001\u0005\u000b",
      "\u0000[\u0005Q\u0000\u000f\u0005V\u0003\u0006\u0004\u000f\u0004\u0002\u0000\u0003\u0003\u0003\u0001S[]\u0006Y\u0001\u0001\u0004\b\\\\\u0004\u0000\u0004\u0006\u0004S\u0004\u0001\u0001[\u0000Q\u0001U\u0005\f",
      "\u0007\u000e\u0004]\u0007\u000b",
      "\u0004V\\R\u0007\u0000\u0005_\u0004U\u0007Y\u0000]\u0004Q\u0003\u0006\u0000T\u0000\u0005\u0004X\u0004\u000e\u0004W\u0000\u0007]\b\u0002\u0003\u0000]\u0005T\u0007\f",
      "X\\Z\\\u0001T\u0000V\u0001P\\Z\u0007[\u0001S\u0005Q\u0004Z[S\u0001R\u0000\u0002\u0003\u0004\u0000\t\u0004\u0007\u0005\u000e\u0005^\u0000[\u0000T\u0005\\\u0000\t\u0004V\\\u0005\u0004\u0002\u0007\u000f\u0004S\u0006X\u0007\u0007]\r",
      "\u0001R\u0007W\u0001S\u0005\u0004\u0002V\\\u000e\u0000\n",
      "\u0000\u0003\u0007R\n"
     ]
    }
   ],
   "source": [
    "print(encrypt(reduce(strxor, MSGS)))"
   ]
  },
  {
   "cell_type": "code",
   "execution_count": 13,
   "metadata": {},
   "outputs": [
    {
     "name": "stdout",
     "output_type": "stream",
     "text": [
      "a\n",
      "b\n",
      "c\n",
      "d\n",
      "e\n",
      "f\n",
      "g\n",
      "h\n",
      "i\n",
      "j\n",
      "k\n",
      "l\n",
      "m\n",
      "n\n",
      "o\n",
      "p\n",
      "q\n",
      "r\n",
      "s\n",
      "t\n",
      "u\n",
      "v\n",
      "w\n",
      "x\n",
      "y\n",
      "z\n",
      "{\n",
      "|\n",
      "}\n",
      "~\n",
      "\n",
      "@\n",
      "A\n",
      "B\n",
      "C\n",
      "D\n",
      "E\n",
      "F\n",
      "G\n",
      "H\n",
      "I\n",
      "J\n",
      "K\n",
      "L\n",
      "M\n",
      "N\n",
      "O\n",
      "P\n",
      "Q\n",
      "R\n",
      "S\n",
      "T\n",
      "U\n",
      "V\n",
      "W\n",
      "X\n",
      "Y\n",
      "Z\n"
     ]
    }
   ],
   "source": [
    "def char_range(c1, c2):\n",
    "    \"\"\"Generates the characters from `c1` to `c2`, inclusive.\"\"\"\n",
    "    for c in range(ord(c1), ord(c2)+1):\n",
    "        yield chr(c)\n",
    "\n",
    "for c in char_range('A', 'z'):\n",
    "    print(strxor(' ', c))\n"
   ]
  },
  {
   "cell_type": "code",
   "execution_count": null,
   "metadata": {
    "collapsed": true
   },
   "outputs": [],
   "source": []
  }
 ],
 "metadata": {
  "kernelspec": {
   "display_name": "Python 3",
   "language": "python",
   "name": "python3"
  },
  "language_info": {
   "codemirror_mode": {
    "name": "ipython",
    "version": 3
   },
   "file_extension": ".py",
   "mimetype": "text/x-python",
   "name": "python",
   "nbconvert_exporter": "python",
   "pygments_lexer": "ipython3",
   "version": "3.6.1"
  }
 },
 "nbformat": 4,
 "nbformat_minor": 2
}
